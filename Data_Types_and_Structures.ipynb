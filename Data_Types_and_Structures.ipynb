{
  "nbformat": 4,
  "nbformat_minor": 0,
  "metadata": {
    "colab": {
      "provenance": []
    },
    "kernelspec": {
      "name": "python3",
      "display_name": "Python 3"
    },
    "language_info": {
      "name": "python"
    }
  },
  "cells": [
    {
      "cell_type": "markdown",
      "source": [
        "# **THEORY QUESTIONS:**"
      ],
      "metadata": {
        "id": "lR8NBLsnEB96"
      }
    },
    {
      "cell_type": "markdown",
      "source": [
        "#Q1. What are data structures, and why are they important ?\n",
        "\n",
        "Answer: Data structures are ways of organizing and storing data. They are important because they help programs run faster and use memory more efficiently.\n",
        "\n",
        "#Q2. Explain the difference between mutable and immutable data types with examples ?\n",
        "\n",
        "\n",
        "Answer: Mutable data types can be changed after they are created, while immutable data types cannot be changed.\n",
        "\n",
        "Example(mutable) :\n",
        "my_list = [1, 2, 3] my_list[0] = 10 # Changing the first item my_list.append(4) # Adding a new item\n",
        "\n",
        "Answer: Mutable data types can be changed after they are created, while immutable data types cannot be changed.\n",
        "\n",
        "Example(mutable) :\n",
        "my_list = [1, 2, 3] my_list[0] = 10 # Changing the first item my_list.append(4) # Adding a new item\n",
        "\n",
        "Example(Immutable):\n",
        "my_tuple = (1, 2, 3)\n",
        "\n",
        "my_tuple[0] = 10 # This would cause an error\n",
        "\n",
        "#Q3. What are the main differences between lists and tuples in Python ?\n",
        "Answer: The main differences between lists and tuples in Python are:\n",
        "\n",
        "Changeability:\n",
        "\n",
        "List: You can change, add, or remove items. Tuple: You cannot change, add, or remove items. Symbols:\n",
        "\n",
        "List: Created with square brackets []. Tuple: Created with round brackets (). Speed:\n",
        "\n",
        "List: Slower because it can be changed. Tuple: Faster because it cannot be changed. When to use:\n",
        "\n",
        "List: Use when you need to change data. Tuple: Use when you don't want the data to change.\n",
        "\n",
        "#Q4. Describe how dictionaries store data ?\n",
        "Answer: Dictionaries in Python store data as pairs of keys and values. Each key is unique and is used to look up a corresponding value.\n",
        "\n",
        "#Q5. Why might you use a set instead of a list in Python ?\n",
        "Answer: You might use a set instead of a list in Python because:\n",
        "\n",
        "No Duplicates: A set automatically removes duplicate values, while a list can have duplicates. Faster Search: Sets are quicker when checking if an item is in the set. Unordered: Sets don't care about the order of items, so if order doesn’t matter, a set is a good choice.\n",
        "\n",
        "#Q6. What is a string in Python, and how is it different from a list ?\n",
        "Answer: A string in Python is a sequence of characters, used to represent text. It is enclosed in either single quotes (') or double quotes (\").\n",
        "\n",
        "A string is for text and cannot be changed. A list can hold various types of data and can be changed.\n",
        "\n",
        "#Q7. How do tuples ensure data integrity in Python ?\n",
        "                                                                                                                    \n",
        "Answer: Tuples ensure data integrity in Python because they are immutable, meaning once you create a tuple, you cannot change, add, or remove any of its elements. This makes sure that the data inside a tuple stays the same throughout the program, protecting it from accidental changes.\n",
        "\n",
        "#Q8. What is a hash table, and how does it relate to dictionaries in Python ?\n",
        "Answer: A hash table is a data structure that stores key-value pairs and uses a special function (called a hash function) to convert the key into an index where the value is stored. This allows for fast lookups, insertions, and deletions.\n",
        "\n",
        "#Q9: Can lists contain different data types in Python ?\n",
        "                                                                                                                                                                                                                                           \n",
        "Answer : Yes, lists in Python can contain different data types. A list can hold a mix of numbers, strings, booleans, or even other lists.\n",
        "\n",
        "#Q10. Explain why strings are immutable in Python ?\n",
        "Answer: Strings are immutable in Python because once they are created, their content cannot be changed. This helps make programs faster and safer by preventing accidental changes to the data. If you need to modify a string, Python creates a new string with the changes instead of changing the original one.\n",
        "\n",
        "#Q11. What advantages do dictionaries offer over lists for certain tasks ?\n",
        "Answer: Dictionaries offer several advantages over lists for certain tasks:\n",
        "\n",
        "Faster Lookups: You can quickly find a value using a key in a dictionary, while with a list, you have to search through all the items.\n",
        "\n",
        "Key-Value Pairs: Dictionaries store data as key-value pairs, making it easier to organize and access data based on a specific key, unlike lists which just store values in order.\n",
        "\n",
        "No Duplicates for Keys: In a dictionary, each key is unique, so you don't need to worry about duplicate keys, while lists can have duplicate items.\n",
        "\n",
        "#Q12. Describe a scenario where using a tuple would be preferable over a list ?\n",
        "                                                                                                                    \n",
        "Answer: A tuple would be better than a list if you need to store data that should not be changed. For example, if you're storing a date (like year, month, day), you don’t want the values to change by accident.\n",
        "\n",
        "#Q13. How do sets handle duplicate values in Python ?\n",
        "Answer: Sets automatically remove duplicate values. If you try to add a duplicate value to a set, it will only keep one copy of that value.\n",
        "\n",
        "#Q14.How does the “in” keyword work differently for lists and dictionaries ?\n",
        "Answer: The in keyword works differently for lists and dictionaries in Python:\n",
        "\n",
        "For lists: It checks if a value is present in the list. For dictionaries: It checks if a key is present in the dictionary, not the value.\n",
        "\n",
        "#Q15. Can you modify the elements of a tuple? Explain why or why not ?\n",
        "Answer: No, you cannot modify the elements of a tuple because tuples are immutable. Once a tuple is created, its values cannot be changed, added, or removed. This is to protect the data from being accidentally changed.\n",
        "\n",
        "#Q16. What is a nested dictionary, and give an example of its use case ?\n",
        "Answer: A nested dictionary is a dictionary that contains other dictionaries as values. This allows you to organize data in multiple layers.\n",
        "\n",
        "Example: students = { \"Millan\": {\"age\": 20, \"grades\": [85, 90, 88]}, \"Rex\": {\"age\": 22, \"grades\": [78, 82, 80]}, }\n",
        "\n",
        "Use case: You can access specific information about a student, like Bob's age, by using the student's name as the key, and then the age key inside that student's dictionary.\n",
        "\n",
        "Example: print(students[\"Rex\"][\"age\"])\n",
        "\n",
        "#Q17.Describe the time complexity of accessing elements in a dictionary ?\n",
        "Answer: Accessing elements in a dictionary is very fast and has a time complexity of O(1), which means it takes the same amount of time no matter how many items are in the dictionary.\n",
        "\n",
        "This is because dictionaries use a special method (hashing) to find the value quickly using the key.\n",
        "\n",
        "#Q18. In what situations are lists preferred over dictionaries ?\n",
        "Answer: Lists are preferred over dictionaries in situations where:\n",
        "\n",
        "Order matters: If you need to keep items in a specific order, use a list.\n",
        "\n",
        "Index-based access: If you need to access items by their position (like the first, second, etc.), lists are better.\n",
        "\n",
        "Storing similar items: If you're storing a collection of similar items (like numbers or names), a list is a good choice.\n",
        "\n",
        "#Q19. Why are dictionaries considered unordered, and how does that affect data retrieval ?\n",
        "Answer: Dictionaries are considered unordered because the items (key-value pairs) do not have a specific order. This means the items might not appear in the same order every time you access them.\n",
        "\n",
        "However, this doesn't affect data retrieval. You can still quickly find values by their keys regardless of the order of the items.\n",
        "\n",
        "#Q20. Explain the difference between a list and a dictionary in terms of data retrieval ?\n",
        "Answer: The main difference between a list and a dictionary in terms of data retrieval is how you access the data:\n",
        "\n",
        "List: You access elements by their index (position in the list).\n",
        "\n",
        "Dictionary: You access elements by their key, not by position."
      ],
      "metadata": {
        "id": "nkfxQHcfEG6A"
      }
    },
    {
      "cell_type": "markdown",
      "source": [
        "# **PRATICAL QUESTIONS:**"
      ],
      "metadata": {
        "id": "E82S4H07FKPo"
      }
    },
    {
      "cell_type": "code",
      "source": [
        "### Q1. Write a code to create a string with your name and print it ?\n",
        "\n",
        "#Answer:\n",
        "\n",
        "my_name = \"Millan\"\n",
        "print(my_name)"
      ],
      "metadata": {
        "colab": {
          "base_uri": "https://localhost:8080/"
        },
        "id": "nAuIFSksFTNg",
        "outputId": "8aae9be8-5203-4f8b-daf7-c1a1bc495e76"
      },
      "execution_count": 1,
      "outputs": [
        {
          "output_type": "stream",
          "name": "stdout",
          "text": [
            "Millan\n"
          ]
        }
      ]
    },
    {
      "cell_type": "code",
      "source": [
        "### Q2. Write a code to find the length of the string \"Hello World\" ?\n",
        "\n",
        "#Answer:\n",
        "\n",
        "my_string = \"Hello World\"\n",
        "length = len(my_string)\n",
        "print(length)"
      ],
      "metadata": {
        "colab": {
          "base_uri": "https://localhost:8080/"
        },
        "id": "7IXQ2_xnFW1i",
        "outputId": "380924da-a285-4026-c88d-b3874a540a8e"
      },
      "execution_count": 2,
      "outputs": [
        {
          "output_type": "stream",
          "name": "stdout",
          "text": [
            "11\n"
          ]
        }
      ]
    },
    {
      "cell_type": "code",
      "source": [
        "## Q3. Write a code to slice the first 3 characters from the string \"Python Programming\" ?\n",
        "\n",
        "#Answer:\n",
        "\n",
        "my_string = \"Python Programming\"\n",
        "sliced_string = my_string[:3]\n",
        "print(sliced_string)"
      ],
      "metadata": {
        "colab": {
          "base_uri": "https://localhost:8080/"
        },
        "id": "NVR8A-vbFZP4",
        "outputId": "8b2ae64a-909d-428d-b6d4-961cbed55248"
      },
      "execution_count": 3,
      "outputs": [
        {
          "output_type": "stream",
          "name": "stdout",
          "text": [
            "Pyt\n"
          ]
        }
      ]
    },
    {
      "cell_type": "code",
      "source": [
        "### Q4. Write a code to convert the string \"hello\" to uppercase ?\n",
        "\n",
        "# Answer\n",
        "\n",
        "my_string = \"hello\"\n",
        "uppercase_string = my_string.upper()\n",
        "print(uppercase_string)"
      ],
      "metadata": {
        "colab": {
          "base_uri": "https://localhost:8080/"
        },
        "id": "WXkXsPgaFbvd",
        "outputId": "ddd7c25e-3f5c-46de-f7b3-1d8e43ab49ef"
      },
      "execution_count": 4,
      "outputs": [
        {
          "output_type": "stream",
          "name": "stdout",
          "text": [
            "HELLO\n"
          ]
        }
      ]
    },
    {
      "cell_type": "code",
      "source": [
        "### Q5. Write a code to replace the word \"apple\" with \"orange\" in the string \"I like apple\" ?\n",
        "\n",
        "#Answer:\n",
        "\n",
        "my_string = \"I like apple\"\n",
        "new_string = my_string.replace(\"apple\", \"orange\")\n",
        "print(new_string)"
      ],
      "metadata": {
        "colab": {
          "base_uri": "https://localhost:8080/"
        },
        "id": "89Q47nQkFeam",
        "outputId": "33524106-c6e7-4f0e-e804-88749db402d2"
      },
      "execution_count": 5,
      "outputs": [
        {
          "output_type": "stream",
          "name": "stdout",
          "text": [
            "I like orange\n"
          ]
        }
      ]
    },
    {
      "cell_type": "code",
      "source": [
        "### Q6. Write a code to create a list with numbers 1 to 5 and print it ?\n",
        "\n",
        "#Answer:\n",
        "\n",
        "my_list = [1, 2, 3, 4, 5]\n",
        "print(my_list)"
      ],
      "metadata": {
        "colab": {
          "base_uri": "https://localhost:8080/"
        },
        "id": "mA1fAOJ9FgBx",
        "outputId": "c03b53a0-004f-42ca-de19-b29a80a840a8"
      },
      "execution_count": 6,
      "outputs": [
        {
          "output_type": "stream",
          "name": "stdout",
          "text": [
            "[1, 2, 3, 4, 5]\n"
          ]
        }
      ]
    },
    {
      "cell_type": "code",
      "source": [
        "### Q7. Write a code to append the number 10 to the list [1, 2, 3, 4] ?\n",
        "#Answer:\n",
        "\n",
        "my_list = [1, 2, 3, 4]\n",
        "my_list.append(10)\n",
        "print(my_list)"
      ],
      "metadata": {
        "colab": {
          "base_uri": "https://localhost:8080/"
        },
        "id": "-0BxGq5DFh4v",
        "outputId": "1ab9b341-4712-4940-97b0-7c6132ba80c6"
      },
      "execution_count": 7,
      "outputs": [
        {
          "output_type": "stream",
          "name": "stdout",
          "text": [
            "[1, 2, 3, 4, 10]\n"
          ]
        }
      ]
    },
    {
      "cell_type": "code",
      "source": [
        "###Q8. Write a code to remove the number 3 from the list [1, 2, 3, 4, 5]\n",
        "\n",
        "# Answer:\n",
        "\n",
        "my_list = [1, 2, 3, 4, 5]\n",
        "my_list.remove(3)\n",
        "print(my_list)"
      ],
      "metadata": {
        "colab": {
          "base_uri": "https://localhost:8080/"
        },
        "id": "gPMRg_0vFlVZ",
        "outputId": "e257e762-06c8-4fde-805f-3293f5e74bba"
      },
      "execution_count": 8,
      "outputs": [
        {
          "output_type": "stream",
          "name": "stdout",
          "text": [
            "[1, 2, 4, 5]\n"
          ]
        }
      ]
    },
    {
      "cell_type": "code",
      "source": [
        "### Q9. Write a code to access the second element in the list ['a', 'b', 'c', 'd'] ?\n",
        "\n",
        "#Answer:\n",
        "\n",
        "my_list = ['a', 'b', 'c', 'd']\n",
        "second_element = my_list[1]\n",
        "print(second_element)"
      ],
      "metadata": {
        "colab": {
          "base_uri": "https://localhost:8080/"
        },
        "id": "eCpkDPAmFnOO",
        "outputId": "aab3ea41-27e9-4d2e-d974-5a2fbcf34f24"
      },
      "execution_count": 9,
      "outputs": [
        {
          "output_type": "stream",
          "name": "stdout",
          "text": [
            "b\n"
          ]
        }
      ]
    },
    {
      "cell_type": "code",
      "source": [
        "### Q10. Write a code to reverse the list [10, 20, 30, 40, 50].\n",
        "\n",
        "#Answer:\n",
        "\n",
        "my_list = [10, 20, 30, 40, 50]\n",
        "my_list.reverse()\n",
        "print(my_list)\n",
        ""
      ],
      "metadata": {
        "colab": {
          "base_uri": "https://localhost:8080/"
        },
        "id": "Oa-egUWUFrSN",
        "outputId": "278ce152-e9f3-459c-b2f7-f6484d4d1b8b"
      },
      "execution_count": 10,
      "outputs": [
        {
          "output_type": "stream",
          "name": "stdout",
          "text": [
            "[50, 40, 30, 20, 10]\n"
          ]
        }
      ]
    },
    {
      "cell_type": "code",
      "source": [
        "### Q11. Write a code to create a tuple with the elements 100, 200, 300 and print it ?\n",
        "\n",
        "# Answer:\n",
        "\n",
        "my_tuple = (100, 200, 300)\n",
        "print(my_tuple)"
      ],
      "metadata": {
        "colab": {
          "base_uri": "https://localhost:8080/"
        },
        "id": "ncR3pPIKFtfS",
        "outputId": "0c7213f3-c769-4e69-d496-a637e8b3e2a0"
      },
      "execution_count": 25,
      "outputs": [
        {
          "output_type": "stream",
          "name": "stdout",
          "text": [
            "(100, 200, 300)\n"
          ]
        }
      ]
    },
    {
      "cell_type": "code",
      "source": [
        "### Q12.  Write a code to access the second-to-last element of the tuple ('red', 'green', 'blue', 'yellow').\n",
        "\n",
        "#Answer:\n",
        "\n",
        "# Define the tuple\n",
        "colors = ('red', 'green', 'blue', 'yellow')\n",
        "\n",
        "# Access the second-to-last element using negative indexing\n",
        "second_to_last = colors[-2]\n",
        "\n",
        "# Print the result\n",
        "print(second_to_last)"
      ],
      "metadata": {
        "colab": {
          "base_uri": "https://localhost:8080/"
        },
        "id": "ca_ymtQAG8RI",
        "outputId": "4f35dc51-31c4-4184-af1c-a279f207101a"
      },
      "execution_count": 26,
      "outputs": [
        {
          "output_type": "stream",
          "name": "stdout",
          "text": [
            "blue\n"
          ]
        }
      ]
    },
    {
      "cell_type": "code",
      "source": [
        "### Q13. Write a code to find the minimum number in the tuple (10, 20, 5, 15)\n",
        "\n",
        "#Answer:\n",
        "\n",
        "\n",
        "# Define the tuple\n",
        "numbers = (10, 20, 5, 15)\n",
        "\n",
        "# Find the minimum number using the min() function\n",
        "minimum_number = min(numbers)\n",
        "\n",
        "# Print the result\n",
        "print(minimum_number)"
      ],
      "metadata": {
        "colab": {
          "base_uri": "https://localhost:8080/"
        },
        "id": "-YlctKkmHQ74",
        "outputId": "f4a3ebe5-5698-4d54-adf9-fec3bc22beea"
      },
      "execution_count": 27,
      "outputs": [
        {
          "output_type": "stream",
          "name": "stdout",
          "text": [
            "5\n"
          ]
        }
      ]
    },
    {
      "cell_type": "code",
      "source": [
        "### Q14. Write a code to find the index of the element \"cat\" in the tuple ('dog', 'cat', 'rabbit').\n",
        "\n",
        "#Answer:\n",
        "\n",
        "my_tuple = ('dog', 'cat', 'rabbit')\n",
        "index_of_cat = my_tuple.index('cat')\n",
        "print(index_of_cat)\n"
      ],
      "metadata": {
        "colab": {
          "base_uri": "https://localhost:8080/"
        },
        "id": "zd3Dh4zpFzzP",
        "outputId": "7e333f3f-0850-40d3-8169-bf012a91c87e"
      },
      "execution_count": 14,
      "outputs": [
        {
          "output_type": "stream",
          "name": "stdout",
          "text": [
            "1\n"
          ]
        }
      ]
    },
    {
      "cell_type": "code",
      "source": [
        "### Q15. Write a code to create a tuple containing three different fruits and check if \"kiwi\" is in it.\n",
        "\n",
        "#Answer:\n",
        "\n",
        "# Define the tuple with three different fruits\n",
        "fruits = ('apple', 'banana', 'orange')\n",
        "\n",
        "# Check if 'kiwi' is in the tuple\n",
        "if 'kiwi' in fruits:\n",
        "    print(\"Kiwi is in the tuple!\")\n",
        "else:\n",
        "    print(\"Kiwi is not in the tuple.\")"
      ],
      "metadata": {
        "colab": {
          "base_uri": "https://localhost:8080/"
        },
        "id": "F_U4ZCGxH0Ww",
        "outputId": "e48f6ab4-227d-45f0-b966-a0fb09d2aaea"
      },
      "execution_count": 28,
      "outputs": [
        {
          "output_type": "stream",
          "name": "stdout",
          "text": [
            "Kiwi is not in the tuple.\n"
          ]
        }
      ]
    },
    {
      "cell_type": "code",
      "source": [
        "### Q16. Write a code to create a set with the elements 'a', 'b', 'c' and print it\n",
        "\n",
        "#Answer:\n",
        "\n",
        "# Create the set with elements 'a', 'b', 'c'\n",
        "my_set = {'a', 'b', 'c'}\n",
        "\n",
        "# Print the set\n",
        "print(my_set)"
      ],
      "metadata": {
        "colab": {
          "base_uri": "https://localhost:8080/"
        },
        "id": "0bMRuKINICfl",
        "outputId": "b571f76b-3911-41c6-aa8e-bbff96a16a83"
      },
      "execution_count": 29,
      "outputs": [
        {
          "output_type": "stream",
          "name": "stdout",
          "text": [
            "{'c', 'b', 'a'}\n"
          ]
        }
      ]
    },
    {
      "cell_type": "code",
      "source": [
        "### Q17. Write a code to clear all elements from the set {1, 2, 3, 4, 5}.\n",
        "\n",
        "#Answer:\n",
        "\n",
        "# Define the set\n",
        "my_set = {1, 2, 3, 4, 5}\n",
        "\n",
        "# Clear all elements from the set\n",
        "my_set.clear()\n",
        "\n",
        "# Print the set after clearing\n",
        "print(my_set)"
      ],
      "metadata": {
        "colab": {
          "base_uri": "https://localhost:8080/"
        },
        "id": "Lvv7ETgEIRgZ",
        "outputId": "aa57e93b-e0fb-4f43-9ff4-ea2e7d338572"
      },
      "execution_count": 30,
      "outputs": [
        {
          "output_type": "stream",
          "name": "stdout",
          "text": [
            "set()\n"
          ]
        }
      ]
    },
    {
      "cell_type": "code",
      "source": [
        "### Q18. Write a code to remove the element 4 from the set {1, 2, 3, 4}.\n",
        "\n",
        "#Answer:\n",
        "\n",
        "# Define the set\n",
        "my_set = {1, 2, 3, 4}\n",
        "\n",
        "# Remove the element 4 from the set\n",
        "my_set.remove(4)\n",
        "\n",
        "# Print the set after removal\n",
        "print(my_set)"
      ],
      "metadata": {
        "colab": {
          "base_uri": "https://localhost:8080/"
        },
        "id": "TSeGvOg8IeIq",
        "outputId": "c4b8b8c3-4a71-4be8-db74-e232acd5fd40"
      },
      "execution_count": 31,
      "outputs": [
        {
          "output_type": "stream",
          "name": "stdout",
          "text": [
            "{1, 2, 3}\n"
          ]
        }
      ]
    },
    {
      "cell_type": "code",
      "source": [
        "### Q19. Write a code to find the union of two sets {1, 2, 3} and {3, 4, 5}.\n",
        "\n",
        "#Answer:\n",
        "\n",
        "\n",
        "# Define the sets\n",
        "set1 = {1, 2, 3}\n",
        "set2 = {3, 4, 5}\n",
        "\n",
        "# Find the union of the two sets\n",
        "union_set = set1.union(set2)\n",
        "\n",
        "# Print the result\n",
        "print(union_set)"
      ],
      "metadata": {
        "colab": {
          "base_uri": "https://localhost:8080/"
        },
        "id": "59dnny3dIn0G",
        "outputId": "dd189989-0f47-4311-c191-608f927aab5e"
      },
      "execution_count": 32,
      "outputs": [
        {
          "output_type": "stream",
          "name": "stdout",
          "text": [
            "{1, 2, 3, 4, 5}\n"
          ]
        }
      ]
    },
    {
      "cell_type": "code",
      "source": [
        "### Q20. Write a code to find the intersection of two sets {1, 2, 3} and {2, 3, 4}.\n",
        "\n",
        "#Answer:\n",
        "\n",
        "# Define the sets\n",
        "set1 = {1, 2, 3}\n",
        "set2 = {2, 3, 4}\n",
        "\n",
        "# Find the intersection of the two sets\n",
        "intersection_set = set1.intersection(set2)\n",
        "\n",
        "# Print the result\n",
        "print(intersection_set)"
      ],
      "metadata": {
        "colab": {
          "base_uri": "https://localhost:8080/"
        },
        "id": "srvC0fojI0st",
        "outputId": "3bd1640d-2d52-4b51-8379-62577f9b2931"
      },
      "execution_count": 33,
      "outputs": [
        {
          "output_type": "stream",
          "name": "stdout",
          "text": [
            "{2, 3}\n"
          ]
        }
      ]
    },
    {
      "cell_type": "code",
      "source": [
        "###Q21. Write a code to create a dictionary with the keys \"name\", \"age\", and \"city\", and print it.\n",
        "\n",
        "#Answer:\n",
        "\n",
        "# Create the dictionary\n",
        "person = {\n",
        "    \"name\": \"ReX\",\n",
        "    \"age\": 23,\n",
        "    \"city\": \"Hyderabad\"\n",
        "}\n",
        "\n",
        "# Print the dictionary\n",
        "print(person)"
      ],
      "metadata": {
        "colab": {
          "base_uri": "https://localhost:8080/"
        },
        "id": "qaXAOaspJBXS",
        "outputId": "72e71384-d40b-4c2f-ba6c-401e38b2268e"
      },
      "execution_count": 34,
      "outputs": [
        {
          "output_type": "stream",
          "name": "stdout",
          "text": [
            "{'name': 'ReX', 'age': 23, 'city': 'Hyderabad'}\n"
          ]
        }
      ]
    },
    {
      "cell_type": "code",
      "source": [
        "### Q22. Write a code to add a new key-value pair \"country\": \"USA\" to the dictionary {'name': 'John', 'age': 25}.\n",
        "\n",
        "#Answer:\n",
        "\n",
        "# Define the dictionary\n",
        "person = {'name': 'ReX', 'age': 23}\n",
        "\n",
        "# Add the new key-value pair\n",
        "person['country'] = 'HYD'\n",
        "\n",
        "# Print the updated dictionary\n",
        "print(person)"
      ],
      "metadata": {
        "colab": {
          "base_uri": "https://localhost:8080/"
        },
        "id": "Txf1CG4dJZKj",
        "outputId": "1d736ecb-f7b9-45d0-fb94-824b84b7ce06"
      },
      "execution_count": 35,
      "outputs": [
        {
          "output_type": "stream",
          "name": "stdout",
          "text": [
            "{'name': 'ReX', 'age': 23, 'country': 'HYD'}\n"
          ]
        }
      ]
    },
    {
      "cell_type": "code",
      "source": [
        "### Q23. Write a code to access the value associated with the key \"name\" in the dictionary {'name': 'Alice', 'age': 30}.\n",
        "\n",
        "#Answer:\n",
        "\n",
        "# Define the dictionary\n",
        "person = {'name': 'Millan', 'age': 23}\n",
        "\n",
        "# Access the value associated with the key 'name'\n",
        "name_value = person['name']\n",
        "\n",
        "# Print the value\n",
        "print(name_value)"
      ],
      "metadata": {
        "colab": {
          "base_uri": "https://localhost:8080/"
        },
        "id": "qkmuGvJVJlLU",
        "outputId": "696fb662-1c42-4389-842b-a71075cc1e34"
      },
      "execution_count": 36,
      "outputs": [
        {
          "output_type": "stream",
          "name": "stdout",
          "text": [
            "Millan\n"
          ]
        }
      ]
    },
    {
      "cell_type": "code",
      "source": [
        "### Q24. Write a code to remove the key \"age\" from the dictionary {'name': 'Bob', 'age': 22, 'city': 'New York'}.\n",
        "\n",
        "#Answer:\n",
        "\n",
        "# Define the dictionary\n",
        "person = {'name': 'Soumya', 'age': 19, 'city': 'Bhubaneswar'}\n",
        "\n",
        "# Remove the key 'age' from the dictionary\n",
        "del person['age']\n",
        "\n",
        "# Print the updated dictionary\n",
        "print(person)"
      ],
      "metadata": {
        "colab": {
          "base_uri": "https://localhost:8080/"
        },
        "id": "PjXjOwxrJxwV",
        "outputId": "eae0e8ca-44b9-4c17-a8b3-f072cd588edc"
      },
      "execution_count": 37,
      "outputs": [
        {
          "output_type": "stream",
          "name": "stdout",
          "text": [
            "{'name': 'Soumya', 'city': 'Bhubaneswar'}\n"
          ]
        }
      ]
    },
    {
      "cell_type": "code",
      "source": [
        "### Q25. Write a code to check if the key \"city\" exists in the dictionary {'name': 'Alice', 'city': 'Paris'}.\n",
        "\n",
        "\n",
        "#Answer:\n",
        "\n",
        "# Define the dictionary\n",
        "person = {'name': 'Sambit', 'city': 'Canada'}\n",
        "\n",
        "# Check if the key 'city' exists in the dictionary\n",
        "if 'city' in person:\n",
        "    print(\"The key 'city' exists in the dictionary.\")\n",
        "else:\n",
        "    print(\"The key 'city' does not exist in the dictionary.\")"
      ],
      "metadata": {
        "colab": {
          "base_uri": "https://localhost:8080/"
        },
        "id": "TCnpe_KgKDeB",
        "outputId": "a064b9a8-63fe-4d48-c319-c00a86af88cb"
      },
      "execution_count": 43,
      "outputs": [
        {
          "output_type": "stream",
          "name": "stdout",
          "text": [
            "The key 'city' exists in the dictionary.\n"
          ]
        }
      ]
    },
    {
      "cell_type": "code",
      "source": [
        "### Q26. Write a code to create a list, a tuple, and a dictionary, and print them all.\n",
        "\n",
        "#Answer:\n",
        "\n",
        "# Create a list\n",
        "my_list = [1, 2, 3, 4, 5]\n",
        "\n",
        "# Create a tuple\n",
        "my_tuple = ('apple', 'banana', 'cherry')\n",
        "\n",
        "# Create a dictionary\n",
        "my_dict = {'name': 'ReX', 'age': 23, 'city': 'Bhubaneswar'}\n",
        "\n",
        "# Print the list, tuple, and dictionary\n",
        "print(\"List:\", my_list)\n",
        "print(\"Tuple:\", my_tuple)\n",
        "print(\"Dictionary:\", my_dict)"
      ],
      "metadata": {
        "colab": {
          "base_uri": "https://localhost:8080/"
        },
        "id": "HQI9MOrjKc7F",
        "outputId": "5ff2ccbe-f863-415e-e8f2-b97697f04612"
      },
      "execution_count": 45,
      "outputs": [
        {
          "output_type": "stream",
          "name": "stdout",
          "text": [
            "List: [1, 2, 3, 4, 5]\n",
            "Tuple: ('apple', 'banana', 'cherry')\n",
            "Dictionary: {'name': 'ReX', 'age': 23, 'city': 'Bhubaneswar'}\n"
          ]
        }
      ]
    },
    {
      "cell_type": "code",
      "source": [
        "### Q27. Write a code to create a list of 5 random numbers between 1 and 100, sort it in ascending order, and print the result.(replaced).\n",
        "\n",
        "#Answer:\n",
        "\n",
        "import random\n",
        "\n",
        "# Create a list of 5 random numbers between 1 and 100\n",
        "random_numbers = [random.randint(1, 100) for _ in range(5)]\n",
        "\n",
        "# Sort the list in ascending order\n",
        "random_numbers.sort()\n",
        "\n",
        "# Print the sorted list\n",
        "print(\"Sorted list of random numbers:\", random_numbers)"
      ],
      "metadata": {
        "colab": {
          "base_uri": "https://localhost:8080/"
        },
        "id": "2lAlqXQ6KsCd",
        "outputId": "56dd4841-4287-45c5-db68-c2acf855e49e"
      },
      "execution_count": 46,
      "outputs": [
        {
          "output_type": "stream",
          "name": "stdout",
          "text": [
            "Sorted list of random numbers: [12, 24, 36, 58, 76]\n"
          ]
        }
      ]
    },
    {
      "cell_type": "code",
      "source": [
        "### Q28. Write a code to create a list with strings and print the element at the third index.\n",
        "\n",
        "#Answer:\n",
        "\n",
        "# Create a list of strings\n",
        "my_list = [\"apple\", \"banana\", \"cherry\", \"date\", \"elderberry\"]\n",
        "\n",
        "# Print the element at the third index (fourth element)\n",
        "print(my_list[3])"
      ],
      "metadata": {
        "colab": {
          "base_uri": "https://localhost:8080/"
        },
        "id": "uBOO2eZ6K8XH",
        "outputId": "405b9edf-6eac-4248-81cb-6bb8a8dd6dd2"
      },
      "execution_count": 47,
      "outputs": [
        {
          "output_type": "stream",
          "name": "stdout",
          "text": [
            "date\n"
          ]
        }
      ]
    },
    {
      "cell_type": "code",
      "source": [
        "### Q29. Write a code to combine two dictionaries into one and print the result.\n",
        "\n",
        "#Answer:\n",
        "\n",
        "#Define two dictionaries\n",
        "dict1 = {'name': 'REX', 'age': 23}\n",
        "dict2 = {'city': 'Paris', 'country': 'France'}\n",
        "\n",
        "# Combine the two dictionaries\n",
        "dict1.update(dict2)\n",
        "\n",
        "# Print the combined dictionary\n",
        "print(dict1)"
      ],
      "metadata": {
        "colab": {
          "base_uri": "https://localhost:8080/"
        },
        "id": "L7vlF1O4LJx0",
        "outputId": "ab417a9f-826c-4174-be9b-2b589570f413"
      },
      "execution_count": 49,
      "outputs": [
        {
          "output_type": "stream",
          "name": "stdout",
          "text": [
            "{'name': 'REX', 'age': 23, 'city': 'Paris', 'country': 'France'}\n"
          ]
        }
      ]
    },
    {
      "cell_type": "code",
      "source": [
        "### Q30.  Write a code to convert a list of strings into a set.\n",
        "\n",
        "#Answer:\n",
        "\n",
        "# Create a list of strings\n",
        "string_list = [\"apple\", \"banana\", \"cherry\", \"apple\", \"banana\"]\n",
        "\n",
        "# Convert the list into a set\n",
        "string_set = set(string_list)\n",
        "\n",
        "# Print the resulting set\n",
        "print(string_set)"
      ],
      "metadata": {
        "colab": {
          "base_uri": "https://localhost:8080/"
        },
        "id": "vQmh9snWLh5Q",
        "outputId": "5879742d-014e-4364-a642-48b40a781129"
      },
      "execution_count": 50,
      "outputs": [
        {
          "output_type": "stream",
          "name": "stdout",
          "text": [
            "{'banana', 'apple', 'cherry'}\n"
          ]
        }
      ]
    }
  ]
}